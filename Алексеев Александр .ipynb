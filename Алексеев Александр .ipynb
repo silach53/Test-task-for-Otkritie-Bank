{
 "cells": [
  {
   "cell_type": "markdown",
   "id": "7d275071",
   "metadata": {},
   "source": [
    "Чтобы создать образец clients_data.xlsx файл, вы можете использовать следующий фрагмент кода Python, который использует библиотеку pandas:"
   ]
  },
  {
   "cell_type": "markdown",
   "id": "2451ee20",
   "metadata": {},
   "source": [
    "# Создадим EXEL для примера"
   ]
  },
  {
   "cell_type": "code",
   "execution_count": 15,
   "id": "643fcda2",
   "metadata": {},
   "outputs": [],
   "source": [
    "import pandas as pd\n",
    "\n",
    "data = {\n",
    "    'Siebel ID': ['1-13B49-27', '1-25A32-35', '77034039801'],\n",
    "    'Фамилия': ['Петров', 'Смирнов', 'Иванов'],\n",
    "    'Имя': ['Петр', 'Александр', 'Иван'],\n",
    "    'Отчество': ['Петрович', 'Александрович', 'Иванович'],\n",
    "    'Дата рождения': ['01.01.1999', '15.06.1985', '01.01.1980'],\n",
    "    'Номер паспорта': ['1234567890', '0987654321', '1122334455'],\n",
    "    'Дата выдачи': ['21.08.2020', '05.10.2005', '01.01.2020'],\n",
    "    'ИНН': ['123456789012', '234567890123', '345678901234']\n",
    "}\n",
    "\n",
    "clients_df = pd.DataFrame(data)\n",
    "clients_df.to_excel('clients_data.xlsx', index=False)\n"
   ]
  },
  {
   "cell_type": "code",
   "execution_count": 16,
   "id": "b24d9f3f",
   "metadata": {
    "scrolled": true
   },
   "outputs": [
    {
     "data": {
      "text/html": [
       "<div>\n",
       "<style scoped>\n",
       "    .dataframe tbody tr th:only-of-type {\n",
       "        vertical-align: middle;\n",
       "    }\n",
       "\n",
       "    .dataframe tbody tr th {\n",
       "        vertical-align: top;\n",
       "    }\n",
       "\n",
       "    .dataframe thead th {\n",
       "        text-align: right;\n",
       "    }\n",
       "</style>\n",
       "<table border=\"1\" class=\"dataframe\">\n",
       "  <thead>\n",
       "    <tr style=\"text-align: right;\">\n",
       "      <th></th>\n",
       "      <th>Siebel ID</th>\n",
       "      <th>Фамилия</th>\n",
       "      <th>Имя</th>\n",
       "      <th>Отчество</th>\n",
       "      <th>Дата рождения</th>\n",
       "      <th>Номер паспорта</th>\n",
       "      <th>Дата выдачи</th>\n",
       "      <th>ИНН</th>\n",
       "    </tr>\n",
       "  </thead>\n",
       "  <tbody>\n",
       "    <tr>\n",
       "      <th>0</th>\n",
       "      <td>1-13B49-27</td>\n",
       "      <td>Петров</td>\n",
       "      <td>Петр</td>\n",
       "      <td>Петрович</td>\n",
       "      <td>01.01.1999</td>\n",
       "      <td>1234567890</td>\n",
       "      <td>21.08.2020</td>\n",
       "      <td>123456789012</td>\n",
       "    </tr>\n",
       "    <tr>\n",
       "      <th>1</th>\n",
       "      <td>1-25A32-35</td>\n",
       "      <td>Смирнов</td>\n",
       "      <td>Александр</td>\n",
       "      <td>Александрович</td>\n",
       "      <td>15.06.1985</td>\n",
       "      <td>0987654321</td>\n",
       "      <td>05.10.2005</td>\n",
       "      <td>234567890123</td>\n",
       "    </tr>\n",
       "    <tr>\n",
       "      <th>2</th>\n",
       "      <td>77034039801</td>\n",
       "      <td>Иванов</td>\n",
       "      <td>Иван</td>\n",
       "      <td>Иванович</td>\n",
       "      <td>01.01.1980</td>\n",
       "      <td>1122334455</td>\n",
       "      <td>01.01.2020</td>\n",
       "      <td>345678901234</td>\n",
       "    </tr>\n",
       "  </tbody>\n",
       "</table>\n",
       "</div>"
      ],
      "text/plain": [
       "     Siebel ID  Фамилия        Имя       Отчество Дата рождения  \\\n",
       "0   1-13B49-27   Петров       Петр       Петрович    01.01.1999   \n",
       "1   1-25A32-35  Смирнов  Александр  Александрович    15.06.1985   \n",
       "2  77034039801   Иванов       Иван       Иванович    01.01.1980   \n",
       "\n",
       "  Номер паспорта Дата выдачи           ИНН  \n",
       "0     1234567890  21.08.2020  123456789012  \n",
       "1     0987654321  05.10.2005  234567890123  \n",
       "2     1122334455  01.01.2020  345678901234  "
      ]
     },
     "execution_count": 16,
     "metadata": {},
     "output_type": "execute_result"
    }
   ],
   "source": [
    "clients_df"
   ]
  },
  {
   "cell_type": "markdown",
   "id": "5f5525a2",
   "metadata": {},
   "source": [
    "Чтобы выполнить эту задачу, мы можем разбить шаги следующим образом:\n",
    "\n",
    "1. Установите необходимые библиотеки.\n",
    "2. Прочтите файл Excel, содержащий данные клиентов.\n",
    "3. Извлеките ИНН для каждого клиента.\n",
    "4. Найдите информацию о банкротстве клиентов по их ИНН на сайте \"Коммерсанта\".\n",
    "5. Сохраните найденные объявления в формате PDF.\n",
    "6. Обновите файл Excel найденной информацией."
   ]
  },
  {
   "cell_type": "markdown",
   "id": "02cbd4d7",
   "metadata": {},
   "source": [
    "1. Установите необходимые библиотеки\n",
    "Для этой задачи нам понадобятся pandas, openpyxl, requests и selenium. Вы можете установить их с помощью pip:"
   ]
  },
  {
   "cell_type": "code",
   "execution_count": null,
   "id": "eeb77112",
   "metadata": {
    "scrolled": true
   },
   "outputs": [],
   "source": [
    "!pip install pandas openpyxl requests selenium enrich_tin"
   ]
  },
  {
   "cell_type": "markdown",
   "id": "04f2f2e5",
   "metadata": {},
   "source": [
    "Кроме того, загрузите соответствующий WebDriver для вашего браузера с https://www.selenium.dev/documentation/en/webdriver/driver_requirements / и добавьте его местоположение в ПУТЬ к вашей системе."
   ]
  },
  {
   "cell_type": "markdown",
   "id": "3ecc8a43",
   "metadata": {},
   "source": [
    "# Извлечение ИНН для каждого клиента\n",
    "Предполагая, что модуль Python для обогащения назван get_itin"
   ]
  },
  {
   "cell_type": "code",
   "execution_count": null,
   "id": "afb9f29e",
   "metadata": {},
   "outputs": [],
   "source": [
    "import pandas as pd\n",
    "import datetime\n",
    "\n",
    "# define function to simulate IFNS website lookup\n",
    "def get_itin(passport_number):\n",
    "    # simulate lookup by returning a randomly generated ITIN\n",
    "    return str(10**11 + int(10**11 * (passport_number / 10**10)))\n",
    "\n",
    "# load client data into DataFrame\n",
    "data = {\n",
    "    'Siebel ID': ['1-13B49-27', '1-25A32-35'],\n",
    "    'Фамилия': ['Петров', 'Смирнов'],\n",
    "    'Имя': ['Петр', 'Александр'],\n",
    "    'Отчество': ['Петрович', 'Александрович'],\n",
    "    'Дата рождения': ['01.01.1999', '15.06.1985'],\n",
    "    'Номер паспорта': ['1234567890', '0987654321'],\n",
    "    'Дата выдачи': ['21.08.2020', '05.10.2005'],\n",
    "}\n",
    "clients_df = pd.DataFrame(data)\n",
    "\n",
    "# simulate updating DataFrame with ITINs retrieved from IFNS website\n",
    "itins = []\n",
    "check_times = []\n",
    "for i, row in clients_df.iterrows():\n",
    "    passport_number = row['Номер паспорта']\n",
    "    itin = get_itin(int(passport_number))\n",
    "    itins.append(itin)\n",
    "    check_times.append(datetime.datetime.now().strftime(\"%Y-%m-%d %H:%M:%S.%f\"))\n",
    "\n",
    "# add ITIN and check time columns to DataFrame\n",
    "clients_df['ИНН'] = itins\n",
    "clients_df['Время проверки ИНН'] = check_times\n",
    "\n",
    "# save DataFrame to Excel file\n",
    "clients_df.to_excel('clients_data_with_itins.xlsx', index=False)\n"
   ]
  },
  {
   "cell_type": "markdown",
   "id": "0f61a22b",
   "metadata": {},
   "source": [
    "# С помощью скрипта, мы могли бы найти информацию о банкротстве клиентов, используя их ИНН, на сайте \"Коммерсанта\""
   ]
  },
  {
   "cell_type": "code",
   "execution_count": null,
   "id": "4e312cec",
   "metadata": {},
   "outputs": [],
   "source": [
    "from selenium import webdriver\n",
    "from selenium.webdriver.common.by import By\n",
    "from selenium.webdriver.common.keys import Keys\n",
    "from selenium.webdriver.support.ui import WebDriverWait\n",
    "from selenium.webdriver.support import expected_conditions as EC\n",
    "import os\n",
    "import datetime\n",
    "\n",
    "def search_bankruptcy_by_tin(tin):\n",
    "    driver.get(\"https://bankruptcy.kommersant.ru/search/index.php\")\n",
    "    search_box = driver.find_element(By.NAME, \"q\")\n",
    "    search_box.send_keys(tin)\n",
    "    search_box.send_keys(Keys.RETURN)\n",
    "\n",
    "    WebDriverWait(driver, 10).until(EC.presence_of_element_located((By.XPATH, '//div[@class=\"search-results__found\"]')))\n",
    "\n",
    "    ads = driver.find_elements(By.XPATH, '//div[@class=\"search-results__item\"]')\n",
    "    return ads\n",
    "\n",
    "driver = webdriver.Chrome()  # or any other browser\n",
    "driver.get(\"https://bankruptcy.kommersant.ru/search/index.php\")\n"
   ]
  },
  {
   "cell_type": "markdown",
   "id": "f8ceaad8",
   "metadata": {},
   "source": [
    "На сайте присутсвует CAPTCHA, если вы не можете обойти CAPTCHA, подход к парсингу\n",
    "веб-страниц будет неосуществим для решения этой проблемы. Предоставленный код был предназначен для демонстрации того, как искать информацию о банкротстве с помощью веб-сайта \"Коммерсантъ\", но из-за наличия CAPTCHA этот подход не сработает.\n",
    "\n",
    "В этом случае лучше поискать альтернативные решения для сбора необходимой информации. Вот пара предложений:\n",
    "\n",
    "Используйте общедоступный API: найдите общедоступный API, предоставляющий информацию о банкротстве. Этот подход обычно более надежен и менее подвержен ошибкам по сравнению с веб-очисткой, поскольку API предназначены для программного доступа.\n",
    "\n",
    "Сбор данных вручную: Если API недоступен, а количество клиентов, которых вам нужно проверить, относительно невелико, вы можете рассмотреть возможность ручного поиска информации на сайте \"Коммерсанта\" или в других источниках. Это отнимает много времени, но может быть единственным вариантом, если отсутствуют API или другие доступные источники данных.\n",
    "\n",
    "Код, приведенный в предыдущих ответах, больше не применим, учитывая проблему с CAPTCHA. Я приношу извинения за любую путаницу, которая могла возникнуть. Важно изучить альтернативные методы получения необходимой информации, соблюдая при этом условия предоставления услуг веб-сайтов, которые вы используете."
   ]
  },
  {
   "cell_type": "markdown",
   "id": "d106a827",
   "metadata": {},
   "source": [
    "Для удобства демонтсрации предположим, что на сайте нет CAPTCHA и наш алгоритм может сохранить резльутаты в pdf"
   ]
  },
  {
   "cell_type": "markdown",
   "id": "3961ee91",
   "metadata": {},
   "source": [
    "# Сохраним pdf "
   ]
  },
  {
   "cell_type": "code",
   "execution_count": null,
   "id": "46ccc57b",
   "metadata": {
    "scrolled": true
   },
   "outputs": [],
   "source": [
    "def save_ad_as_pdf(ad, siebel_id, surname, name, ads_count):\n",
    "    ad_title = f\"Siebel-{siebel_id}_{surname}_{name}_No.-{ads_count}.pdf\"\n",
    "    ad_dir = os.path.join('bankruptcy_ads', str(datetime.date.today()))\n",
    "    os.makedirs(ad_dir, exist_ok=True)\n",
    "    pdf_file = os.path.join(ad_dir, ad_title)\n",
    "\n",
    "    # Save ad as PDF using browser's print to PDF functionality (browser-dependent)\n",
    "\n",
    "    return pdf_file"
   ]
  },
  {
   "cell_type": "code",
   "execution_count": null,
   "id": "6ab751fa",
   "metadata": {},
   "outputs": [],
   "source": [
    "ads_count = 0\n",
    "for index, row in clients_df.iterrows():\n",
    "    ads = search_bankruptcy_by_tin(row['ИНН'])\n",
    "    for ad in ads:\n",
    "        ads_count += 1\n",
    "        pdf_file = save_ad_as_pdf(ad, row['Siebel ID'], row['Фамилия'], row['Имя'], ads_count)\n",
    "        clients_df.at[index, 'Найдено в Ъ'] = pdf_file\n",
    "        clients_df.at[index, 'Время проверки в Ъ:'] = datetime.datetime.now()"
   ]
  },
  {
   "cell_type": "markdown",
   "id": "ccc4a3a9",
   "metadata": {},
   "source": [
    "Исходя из приведенного примера, кажется, что вы хотите извлечь определенную информацию из PDF-файла, а затем добавить еще два столбца в существующий файл Excel. Для достижения этой цели вы можете использовать библиотеку PyPDF2 для извлечения текста из PDF-файла и библиотеку pandas для работы с файлом Excel."
   ]
  },
  {
   "cell_type": "code",
   "execution_count": null,
   "id": "90438956",
   "metadata": {},
   "outputs": [],
   "source": [
    "!pip install PyPDF2 pandas openpyxl"
   ]
  },
  {
   "cell_type": "markdown",
   "id": "c632fd67",
   "metadata": {},
   "source": [
    "# Парсинг данных из pdf чтобы обновить exel"
   ]
  },
  {
   "cell_type": "code",
   "execution_count": null,
   "id": "7d125b9a",
   "metadata": {},
   "outputs": [],
   "source": [
    "import os\n",
    "import PyPDF2\n",
    "import pandas as pd\n",
    "import re\n",
    "from datetime import datetime\n",
    "\n",
    "def extract_text_from_pdf(pdf_path):\n",
    "    with open(pdf_path, 'rb') as file:\n",
    "        pdf_reader = PyPDF2.PdfReader(file)\n",
    "        text = ''\n",
    "        for page in pdf_reader.pages:\n",
    "            text += page.extract_text()\n",
    "    return text\n",
    "\n",
    "def extract_siebel_id(text):\n",
    "    match = re.search(r'№\\s*(\\d+)', text)\n",
    "    return match.group(1) if match else None\n",
    "\n",
    "def extract_inn_check_date(text):\n",
    "    match = re.search(r'№\\d+\\(\\d+\\) от (\\d{2}\\.\\d{2}\\.\\d{4})', text)\n",
    "    return match.group(1) if match else None\n",
    "\n",
    "def extract_inn_check_result(text):\n",
    "    inn_section = re.findall(r'ИНН\\s+(\\d+)', text)\n",
    "    return inn_section[0] if inn_section else None\n",
    "\n",
    "# Load the Excel file into a DataFrame\n",
    "file_path = 'clients_data.xlsx'\n",
    "df = pd.read_excel(file_path)\n",
    "\n",
    "# Add new columns to the DataFrame\n",
    "df['Время проверки ИНН'] = None\n",
    "df['Найдено в Ъ'] = None\n",
    "df['INN'] = None\n",
    "\n",
    "# Folder containing the PDF files\n",
    "pdf_folder_path = 'pdffolder'\n",
    "\n",
    "# Loop through all PDF files in the folder\n",
    "for file_name in os.listdir(pdf_folder_path):\n",
    "    if file_name.endswith('.pdf'):\n",
    "        pdf_path = os.path.join(pdf_folder_path, file_name)\n",
    "        pdf_text = extract_text_from_pdf(pdf_path)\n",
    "\n",
    "        # Parse and extract the necessary information from the text\n",
    "        siebel_id = extract_siebel_id(pdf_text)\n",
    "        inn_check_date = extract_inn_check_date(pdf_text)\n",
    "        inn_check_result = extract_inn_check_result(pdf_text)\n",
    "\n",
    "        # Get the current time and format it\n",
    "        file_creation_time = os.path.getctime(pdf_path)\n",
    "        now = datetime.fromtimestamp(file_creation_time).strftime('%Y-%m-%d %H:%M:%S')\n",
    "\n",
    "        # Update the DataFrame with the extracted information\n",
    "        if siebel_id and inn_check_date and inn_check_result:\n",
    "            df.loc[df['Siebel ID'] == siebel_id, 'Время проверки ИНН'] = now\n",
    "            df.loc[df['Siebel ID'] == siebel_id, 'Найдено в Ъ'] = inn_check_result\n",
    "            df.loc[df['Siebel ID'] == siebel_id, 'INN'] = inn_check_result\n",
    "\n",
    "# Fill missing values with default strings\n",
    "df['Время проверки ИНН'].fillna('Время проверки ИНН не подтверждено', inplace=True)\n",
    "df['Найдено в Ъ'].fillna('Информация об ИНН не найдена', inplace=True)\n",
    "df['INN'].fillna('ИНН не найден', inplace=True)\n",
    "\n",
    "# Save the updated DataFrame to a new Excel file\n",
    "df.to_excel('updated_clients.xlsx', index=False)"
   ]
  },
  {
   "cell_type": "markdown",
   "id": "c48abdb8",
   "metadata": {},
   "source": [
    "# Описать подробную логику наиболее оптимальной реализации п.6"
   ]
  },
  {
   "cell_type": "markdown",
   "id": "4a521a28",
   "metadata": {},
   "source": [
    "Вот оптимальный пошаговый подход к загрузке данных в CRM:\n",
    "\n",
    "1. Извлечение данных: Прочитайте расширенный файл Excel, используя библиотеку Python, такую как pandas, чтобы извлечь соответствующие данные в структурированный формат, такой как DataFrame. Это позволит легко манипулировать данными и преобразовывать их перед загрузкой в CRM."
   ]
  },
  {
   "cell_type": "code",
   "execution_count": null,
   "id": "29f49e33",
   "metadata": {},
   "outputs": [],
   "source": [
    "import pandas as pd\n",
    "\n",
    "file_path = 'enriched_data.xlsx'\n",
    "data_df = pd.read_excel(file_path)"
   ]
  },
  {
   "cell_type": "markdown",
   "id": "61e1ef83",
   "metadata": {},
   "source": [
    "2. Преобразование данных: Выполните любые необходимые преобразования данных, чтобы обеспечить правильное отображение данных в CRM-системе. Например, вам может потребоваться преобразовать форматы дат или объединить определенные столбцы."
   ]
  },
  {
   "cell_type": "code",
   "execution_count": null,
   "id": "549a0e99",
   "metadata": {},
   "outputs": [],
   "source": [
    "data_df['Date of Birth'] = pd.to_datetime(data_df['Date of Birth']).dt.strftime('%Y-%m-%d')"
   ]
  },
  {
   "cell_type": "markdown",
   "id": "45d3f8eb",
   "metadata": {},
   "source": [
    "3. Аутентификация: Аутентифицируйтесь в CRM-системе, используя предоставленный ключ API или учетные данные. Это может включать OAuth2 или любой другой механизм аутентификации, поддерживаемый CRM."
   ]
  },
  {
   "cell_type": "code",
   "execution_count": null,
   "id": "5a7128f6",
   "metadata": {},
   "outputs": [],
   "source": [
    "import requests\n",
    "\n",
    "crm_auth_url = 'https://crm.example.com/auth'\n",
    "crm_api_key = 'your_api_key'\n",
    "headers = {'Authorization': f'Bearer {crm_api_key}'}"
   ]
  },
  {
   "cell_type": "markdown",
   "id": "75e9eb70",
   "metadata": {},
   "source": [
    "4. Загрузка данных: Выполните итерацию по фрейму данных, создавая или обновляя записи в CRM для каждого клиента. Используйте API CRM для отправки необходимых запросов. Обязательно обработайте ошибки, которые могут возникнуть во время процесса."
   ]
  },
  {
   "cell_type": "code",
   "execution_count": null,
   "id": "e7366313",
   "metadata": {},
   "outputs": [],
   "source": [
    "crm_base_url = 'https://crm.example.com'\n",
    "\n",
    "for index, row in data_df.iterrows():\n",
    "    client_data = row.to_dict()\n",
    "    try\n",
    "        # Prepare the payload for the API request\n",
    "        payload = {\n",
    "            'Siebel_ID': client_data['Siebel ID'],\n",
    "            'Last_Name': client_data['Last Name'],\n",
    "            'First_Name': client_data['First Name'],\n",
    "            'Patronymic': client_data['Patronymic'],\n",
    "            'Date_of_Birth': client_data['Date of Birth'],\n",
    "            'Passport_Number': client_data['Passport Number'],\n",
    "            'Date_of_Passport_Issuance': client_data['Date of Passport Issuance'],\n",
    "            'TIN': client_data['TIN'],\n",
    "            'Time_of_TIN_Verification': client_data['Time of TIN Verification'],\n",
    "            'Found_in_B': client_data['Found in B'],\n",
    "            'Check_Time': client_data['Check Time']\n",
    "        }\n",
    "\n",
    "        # Make the API request to create or update the client record in the CRM\n",
    "        response = requests.post(f'{crm_base_url}/clients', json=payload, headers=headers)\n",
    "\n",
    "        # Check if the request was successful\n",
    "        if response.status_code == 200 or response.status_code == 201:\n",
    "            print(f\"Client {client_data['Siebel ID']} uploaded successfully.\")\n",
    "        else:\n",
    "            print(f\"Error uploading client {client_data['Siebel ID']}: {response.text}\")\n",
    "\n",
    "    except Exception as e:\n",
    "        print(f\"Error processing client {client_data['Siebel ID']}: {str(e)}\")"
   ]
  },
  {
   "cell_type": "markdown",
   "id": "987e1fb0",
   "metadata": {},
   "source": [
    "5. Загрузка файла: Для каждой записи клиента, созданной или обновленной в CRM-системе, загрузите соответствующий PDF-файл (ы), полученный из bankruptcy.kommersant.ru веб-сайт. Это можно сделать с помощью CRM API для загрузки файлов или любым другим методом, предоставляемым\n",
    "CRM-системой. Обязательно обработайте ошибки, которые могут возникнуть в процессе загрузки файла."
   ]
  },
  {
   "cell_type": "code",
   "execution_count": null,
   "id": "5fb1f5ac",
   "metadata": {},
   "outputs": [],
   "source": [
    "pdf_folder_path = 'path/to/pdf/folder'\n",
    "\n",
    "for index, row in data_df.iterrows():\n",
    "    client_data = row.to_dict()\n",
    "    siebel_id = client_data['Siebel ID']\n",
    "    pdf_file_name = f'Siebel-{siebel_id}_family_and_No.-ads.pdf'\n",
    "    pdf_file_path = f'{pdf_folder_path}/{pdf_file_name}'\n",
    "\n",
    "    try:\n",
    "        # Check if the PDF file exists\n",
    "        if os.path.isfile(pdf_file_path):\n",
    "            # Read the PDF file as binary data\n",
    "            with open(pdf_file_path, 'rb') as file:\n",
    "                pdf_data = file.read()\n",
    "\n",
    "            # Prepare the payload for the API request\n",
    "            files = {'file': (pdf_file_name, pdf_data, 'application/pdf')}\n",
    "\n",
    "            # Make the API request to upload the PDF file to the CRM\n",
    "            response = requests.post(f'{crm_base_url}/clients/{siebel_id}/upload', files=files, headers=headers)\n",
    "\n",
    "            # Check if the request was successful\n",
    "            if response.status_code == 200 or response.status_code == 201:\n",
    "                print(f\"PDF file for client {siebel_id} uploaded successfully.\")\n",
    "            else:\n",
    "                print(f\"Error uploading PDF file for client {siebel_id}: {response.text}\")\n",
    "\n",
    "        else:\n",
    "            print(f\"PDF file for client {siebel_id} not found.\")\n",
    "\n",
    "    except Exception as e:\n",
    "        print(f\"Error uploading PDF file for client {siebel_id}: {str(e)}\")"
   ]
  },
  {
   "cell_type": "markdown",
   "id": "2e91c666",
   "metadata": {},
   "source": [
    "При таком подходе вы можете оптимально загрузить подготовленные данные и PDF-файлы в CRM-систему, одновременно обрабатывая любые ошибки, которые могут возникнуть в процессе. Это гарантирует, что данные загружены правильно и любые проблемы регистрируются для дальнейшего расследования."
   ]
  }
 ],
 "metadata": {
  "kernelspec": {
   "display_name": "Python 3 (ipykernel)",
   "language": "python",
   "name": "python3"
  },
  "language_info": {
   "codemirror_mode": {
    "name": "ipython",
    "version": 3
   },
   "file_extension": ".py",
   "mimetype": "text/x-python",
   "name": "python",
   "nbconvert_exporter": "python",
   "pygments_lexer": "ipython3",
   "version": "3.11.1"
  }
 },
 "nbformat": 4,
 "nbformat_minor": 5
}
